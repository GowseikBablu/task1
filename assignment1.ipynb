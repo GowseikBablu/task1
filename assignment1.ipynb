1.
nl=[]
for x in range(2000, 3200):
    if (x%7==0) and (x%5!=0):
        nl.append(str(x))
print (','.join(nl))
2.
firstname=input("Enter the firstname:")
lastname=input("Enter the lastname:")
print(lastname+" "+firstname)
3.
n=[]
for x in range(2000, 3200):
    if (x%7==0) and (x%5!=0):
        n.append(str(x))
print (','.join(n))
